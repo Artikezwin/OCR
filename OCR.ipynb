{
 "cells": [
  {
   "cell_type": "code",
   "execution_count": 131,
   "metadata": {
    "collapsed": true
   },
   "outputs": [],
   "source": [
    "import easyocr\n",
    "import pytesseract\n",
    "\n",
    "from PIL import Image\n",
    "pytesseract.pytesseract.tesseract_cmd = r\"C:\\Program Files\\Tesseract-OCR\\tesseract.exe\" # for Windows users"
   ]
  },
  {
   "cell_type": "code",
   "execution_count": 135,
   "outputs": [],
   "source": [
    "def text_recognition(file_path, text_file_name=\"result-easyOCR.txt\"):\n",
    "    reader = easyocr.Reader(['ru','en'])\n",
    "    result = reader.readtext(file_path, detail=0, paragraph=True)\n",
    "\n",
    "    with open(text_file_name, \"w\") as file: # тут возвращается список, поэтому пробегаемся по нему\n",
    "        for line in result:\n",
    "            file.write(f\"{line}\\n\\n\")\n",
    "\n",
    "    return f\"Result wrote into {text_file_name}\""
   ],
   "metadata": {
    "collapsed": false
   }
  },
  {
   "cell_type": "code",
   "execution_count": 136,
   "outputs": [],
   "source": [
    "def main():\n",
    "    file_path = \"images-for-test/2-languages.png\"\n",
    "    print(text_recognition(file_path=file_path))"
   ],
   "metadata": {
    "collapsed": false
   }
  },
  {
   "cell_type": "markdown",
   "source": [
    "Ошибка возникает из-за того, что у меня на ноуте встройка. Бывают в жизни огорчения"
   ],
   "metadata": {
    "collapsed": false
   }
  },
  {
   "cell_type": "code",
   "execution_count": 138,
   "outputs": [
    {
     "name": "stderr",
     "output_type": "stream",
     "text": [
      "CUDA not available - defaulting to CPU. Note: This module is much faster with a GPU.\n"
     ]
    },
    {
     "name": "stdout",
     "output_type": "stream",
     "text": [
      "Result wrote into result-easyOCR.txt\n"
     ]
    }
   ],
   "source": [
    "main()"
   ],
   "metadata": {
    "collapsed": false
   }
  },
  {
   "cell_type": "markdown",
   "source": [
    "Это работает все круто и сразу, но есть ровно одна проблема: мне не понравилось, как он считывает большие текста. Он теряет символы, отступы, странно разбивает на абзацы. Я могу конечно добавить в Reader параметр ch_simv, но он доступен для использования только с английским языком. В общем, EasyOCR подходит для считывания текста с табличек на фотографиях, например, но не для большого текста. А мне это и нужно.\n",
    "\n",
    "Поэтому перейдем к другой реализации - tesseract"
   ],
   "metadata": {
    "collapsed": false
   }
  },
  {
   "cell_type": "code",
   "execution_count": 110,
   "outputs": [
    {
     "name": "stdout",
     "output_type": "stream",
     "text": [
      "8 921 999-09-92\n",
      "\n"
     ]
    }
   ],
   "source": [
    "file_path = \"images-for-test/phone-number.png\"\n",
    "img = Image.open(file_path)\n",
    "\n",
    "text = pytesseract.image_to_string(img)\n",
    "print(text)"
   ],
   "metadata": {
    "collapsed": false
   }
  },
  {
   "cell_type": "markdown",
   "source": [
    "Как мы можем заметить, у нас появилась лишняя цифра. Попробуем исправить это с помощью конфига"
   ],
   "metadata": {
    "collapsed": false
   }
  },
  {
   "cell_type": "code",
   "execution_count": 139,
   "outputs": [],
   "source": [
    "def text_recognition_tesseract(file_path, text_file_name=\"result.txt\"):\n",
    "    img = Image.open(file_path)\n",
    "\n",
    "    custom_config = r'--oem 3 --psm 6'\n",
    "\n",
    "    text = pytesseract.image_to_string(img, config=custom_config)\n",
    "    print(text)\n",
    "\n",
    "    with open(text_file_name, \"w\") as file:\n",
    "        file.write(f\"{text}\")\n",
    "\n",
    "    return f\"Result wrote into {text_file_name}\""
   ],
   "metadata": {
    "collapsed": false
   }
  },
  {
   "cell_type": "code",
   "execution_count": 140,
   "outputs": [],
   "source": [
    "def main():\n",
    "    file_path = \"images-for-test/phone-number.png\"\n",
    "    print(text_recognition_tesseract(file_path))"
   ],
   "metadata": {
    "collapsed": false
   }
  },
  {
   "cell_type": "code",
   "execution_count": 142,
   "outputs": [
    {
     "name": "stdout",
     "output_type": "stream",
     "text": [
      "8 921 999-09-92\n",
      "\n",
      "Result wrote into result.txt\n"
     ]
    }
   ],
   "source": [
    "main()"
   ],
   "metadata": {
    "collapsed": false
   }
  },
  {
   "cell_type": "markdown",
   "source": [
    "Теперь результат точный, попробуем считать наш любимый текст по английскому"
   ],
   "metadata": {
    "collapsed": false
   }
  },
  {
   "cell_type": "code",
   "execution_count": 145,
   "outputs": [
    {
     "name": "stdout",
     "output_type": "stream",
     "text": [
      "of the cylinders on each stroke of the cycle. A further\n",
      "increase in power and smoothness is obtained in engines\n",
      "of 6, 8,12, and 16 cylinders, which are arranged in either\n",
      "a straight line or two banks assembled in the form of a V.\n",
      "Carburation\n",
      "Air is mixed with the vapour of the petrol in the\n",
      "carburettor. To prevent the air and the carburettor from\n",
      "becoming too cold for successful evaporation of the fuel,\n",
      "the air for the carburettor is usually taken from a point\n",
      "close to a heated part of the engine. Modern carburet-\n",
      "tors are fitted with a so-called float-feed chamber and a\n",
      "mixing or spraying chamber. The first is a small cham-\n",
      "ber in which a small supply of petrol is maintained at a\n",
      "constant level. The petrol is pumped from the main tank\n",
      "to this chamber, the float rising as the petrol flows in\n",
      "until the desired level is reached, when the inlet closes.\n",
      "/ The carburettor is equipped with such devices as accel-\n",
      "erating pumps and economizer valves, which automati-\n",
      "cally control the mixture ratio for efficient operation\n",
      "under varying conditions. Level-road driving at constant\n",
      "speed requires a lower ratio of petrol to air than that\n",
      "needed for climbing hills, for acceleration, or for start-\n",
      "ing the engine in cold weather. When a mixture ex-\n",
      "tremely rich in petrol is necessary, a valve known as the\n",
      "choke cuts down the air intake, permitting large quanti-\n",
      "ties of unvaporized fuel to enter the cylinder.\n",
      "\n",
      "Result wrote into result.txt\n"
     ]
    }
   ],
   "source": [
    "print(text_recognition_tesseract(\"images-for-test/eng-text.png\"))"
   ],
   "metadata": {
    "collapsed": false
   }
  },
  {
   "cell_type": "code",
   "execution_count": null,
   "outputs": [],
   "source": [],
   "metadata": {
    "collapsed": false
   }
  }
 ],
 "metadata": {
  "kernelspec": {
   "display_name": "Python 3",
   "language": "python",
   "name": "python3"
  },
  "language_info": {
   "codemirror_mode": {
    "name": "ipython",
    "version": 2
   },
   "file_extension": ".py",
   "mimetype": "text/x-python",
   "name": "python",
   "nbconvert_exporter": "python",
   "pygments_lexer": "ipython2",
   "version": "2.7.6"
  }
 },
 "nbformat": 4,
 "nbformat_minor": 0
}
